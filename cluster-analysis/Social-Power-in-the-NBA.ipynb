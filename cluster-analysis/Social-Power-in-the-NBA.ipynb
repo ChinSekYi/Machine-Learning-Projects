{
 "cells": [
  {
   "cell_type": "markdown",
   "metadata": {},
   "source": [
    "# K-Means Clustering"
   ]
  },
  {
   "cell_type": "markdown",
   "metadata": {},
   "source": [
    "## Social Power in the NBA (Comparing on the court performance with Social Influence)\n",
    "### Dataset:  \n",
    "This project explores the relationship between Social Media, Salary, Influence, Performance and Team Valuation in the NBA.\n",
    "\n",
    "\n",
    "Variables:\n",
    "- TEAM: Name of the NBA Team\n",
    "- GMS: Games Played\n",
    "- PCT_ATTENDANCE: Average % Attendance of capacity (note some teams were over capacity as an averag)\n",
    "- WINNING_SEASON: If the team won over 50% of their games, it was 1, otherwise 0.\n",
    "- TOTAL_ATTENDANCE_MILLIONS: Total season attendance in the millions.\n",
    "- VALUE_MILLIONS: Valuation of the team in millions\n",
    "- ELO: https://en.wikipedia.org/wiki/Elo_rating_system\n",
    "- CONF: Eastern or Western Conference\n",
    "- COUNTY: The county where the team is located\n",
    "- MEDIAN_HOME_PRICE_COUNTY_MILLIONS: Median Home Price\n",
    "- COUNTY_POPULATION_MILLIONS: The Population of the county in Millions\n",
    "- cluster: A cluster created by KMeans clustering (shown in notebook)"
   ]
  },
  {
   "cell_type": "code",
   "execution_count": 47,
   "metadata": {},
   "outputs": [],
   "source": [
    "import pandas as pd\n",
    "team_data = \"https://raw.githubusercontent.com/noahgift/socialpowernba/master/data/nba_2017_att_val_elo_win_housing.csv\"\n",
    "val_housing_win_df = pd.read_csv(team_data)\n",
    "numerical_df = val_housing_win_df.loc[:,[\"TOTAL_ATTENDANCE_MILLIONS\", \"ELO\", \"VALUE_MILLIONS\", \"MEDIAN_HOME_PRICE_COUNTY_MILLIONS\"]]"
   ]
  },
  {
   "cell_type": "code",
   "execution_count": 48,
   "metadata": {},
   "outputs": [
    {
     "data": {
      "text/html": [
       "<div>\n",
       "<style scoped>\n",
       "    .dataframe tbody tr th:only-of-type {\n",
       "        vertical-align: middle;\n",
       "    }\n",
       "\n",
       "    .dataframe tbody tr th {\n",
       "        vertical-align: top;\n",
       "    }\n",
       "\n",
       "    .dataframe thead th {\n",
       "        text-align: right;\n",
       "    }\n",
       "</style>\n",
       "<table border=\"1\" class=\"dataframe\">\n",
       "  <thead>\n",
       "    <tr style=\"text-align: right;\">\n",
       "      <th></th>\n",
       "      <th>GMS</th>\n",
       "      <th>PCT_ATTENDANCE</th>\n",
       "      <th>WINNING_SEASON</th>\n",
       "      <th>TOTAL_ATTENDANCE_MILLIONS</th>\n",
       "      <th>VALUE_MILLIONS</th>\n",
       "      <th>ELO</th>\n",
       "      <th>MEDIAN_HOME_PRICE_COUNTY_MILLIONS</th>\n",
       "      <th>COUNTY_POPULATION_MILLIONS</th>\n",
       "    </tr>\n",
       "  </thead>\n",
       "  <tbody>\n",
       "    <tr>\n",
       "      <th>count</th>\n",
       "      <td>30.0</td>\n",
       "      <td>30.000000</td>\n",
       "      <td>30.000000</td>\n",
       "      <td>30.000000</td>\n",
       "      <td>30.000000</td>\n",
       "      <td>30.000000</td>\n",
       "      <td>3.000000e+01</td>\n",
       "      <td>30.000000</td>\n",
       "    </tr>\n",
       "    <tr>\n",
       "      <th>mean</th>\n",
       "      <td>41.0</td>\n",
       "      <td>93.466667</td>\n",
       "      <td>0.566667</td>\n",
       "      <td>0.733263</td>\n",
       "      <td>1355.333333</td>\n",
       "      <td>1504.833333</td>\n",
       "      <td>4.074711e+05</td>\n",
       "      <td>2.236000</td>\n",
       "    </tr>\n",
       "    <tr>\n",
       "      <th>std</th>\n",
       "      <td>0.0</td>\n",
       "      <td>8.544945</td>\n",
       "      <td>0.504007</td>\n",
       "      <td>0.073376</td>\n",
       "      <td>709.613704</td>\n",
       "      <td>106.843451</td>\n",
       "      <td>3.019041e+05</td>\n",
       "      <td>2.434055</td>\n",
       "    </tr>\n",
       "    <tr>\n",
       "      <th>min</th>\n",
       "      <td>41.0</td>\n",
       "      <td>72.000000</td>\n",
       "      <td>0.000000</td>\n",
       "      <td>0.605585</td>\n",
       "      <td>750.000000</td>\n",
       "      <td>1338.000000</td>\n",
       "      <td>1.299000e+05</td>\n",
       "      <td>0.390000</td>\n",
       "    </tr>\n",
       "    <tr>\n",
       "      <th>25%</th>\n",
       "      <td>41.0</td>\n",
       "      <td>86.500000</td>\n",
       "      <td>0.000000</td>\n",
       "      <td>0.679130</td>\n",
       "      <td>886.250000</td>\n",
       "      <td>1425.250000</td>\n",
       "      <td>2.710388e+05</td>\n",
       "      <td>0.972500</td>\n",
       "    </tr>\n",
       "    <tr>\n",
       "      <th>50%</th>\n",
       "      <td>41.0</td>\n",
       "      <td>96.500000</td>\n",
       "      <td>1.000000</td>\n",
       "      <td>0.724902</td>\n",
       "      <td>1062.500000</td>\n",
       "      <td>1510.500000</td>\n",
       "      <td>3.241990e+05</td>\n",
       "      <td>1.275000</td>\n",
       "    </tr>\n",
       "    <tr>\n",
       "      <th>75%</th>\n",
       "      <td>41.0</td>\n",
       "      <td>100.000000</td>\n",
       "      <td>1.000000</td>\n",
       "      <td>0.800584</td>\n",
       "      <td>1600.000000</td>\n",
       "      <td>1582.500000</td>\n",
       "      <td>4.654250e+05</td>\n",
       "      <td>2.400000</td>\n",
       "    </tr>\n",
       "    <tr>\n",
       "      <th>max</th>\n",
       "      <td>41.0</td>\n",
       "      <td>104.000000</td>\n",
       "      <td>1.000000</td>\n",
       "      <td>0.888882</td>\n",
       "      <td>3300.000000</td>\n",
       "      <td>1770.000000</td>\n",
       "      <td>1.725000e+06</td>\n",
       "      <td>10.100000</td>\n",
       "    </tr>\n",
       "  </tbody>\n",
       "</table>\n",
       "</div>"
      ],
      "text/plain": [
       "        GMS  PCT_ATTENDANCE  WINNING_SEASON  TOTAL_ATTENDANCE_MILLIONS  \\\n",
       "count  30.0       30.000000       30.000000                  30.000000   \n",
       "mean   41.0       93.466667        0.566667                   0.733263   \n",
       "std     0.0        8.544945        0.504007                   0.073376   \n",
       "min    41.0       72.000000        0.000000                   0.605585   \n",
       "25%    41.0       86.500000        0.000000                   0.679130   \n",
       "50%    41.0       96.500000        1.000000                   0.724902   \n",
       "75%    41.0      100.000000        1.000000                   0.800584   \n",
       "max    41.0      104.000000        1.000000                   0.888882   \n",
       "\n",
       "       VALUE_MILLIONS          ELO  MEDIAN_HOME_PRICE_COUNTY_MILLIONS  \\\n",
       "count       30.000000    30.000000                       3.000000e+01   \n",
       "mean      1355.333333  1504.833333                       4.074711e+05   \n",
       "std        709.613704   106.843451                       3.019041e+05   \n",
       "min        750.000000  1338.000000                       1.299000e+05   \n",
       "25%        886.250000  1425.250000                       2.710388e+05   \n",
       "50%       1062.500000  1510.500000                       3.241990e+05   \n",
       "75%       1600.000000  1582.500000                       4.654250e+05   \n",
       "max       3300.000000  1770.000000                       1.725000e+06   \n",
       "\n",
       "       COUNTY_POPULATION_MILLIONS  \n",
       "count                   30.000000  \n",
       "mean                     2.236000  \n",
       "std                      2.434055  \n",
       "min                      0.390000  \n",
       "25%                      0.972500  \n",
       "50%                      1.275000  \n",
       "75%                      2.400000  \n",
       "max                     10.100000  "
      ]
     },
     "execution_count": 48,
     "metadata": {},
     "output_type": "execute_result"
    }
   ],
   "source": [
    "val_housing_win_df.head()\n",
    "val_housing_win_df.describe()"
   ]
  },
  {
   "cell_type": "markdown",
   "metadata": {},
   "source": [
    "### Distance metrics used:\n",
    "- Euclidean\n",
    "- Hamming \n",
    "    - The Hamming distance between two strings, a and b is denoted as d(a,b). It is used for error detection or error correction when data is transmitted over computer networks. It is also using in coding theory for comparing equal length data words\n",
    "- Cosine\n",
    "- Mahalanobis \n",
    "    - measure of the distance between a point P and distribution D"
   ]
  },
  {
   "cell_type": "markdown",
   "metadata": {},
   "source": [
    "#### Find Euclidean Distance"
   ]
  },
  {
   "cell_type": "code",
   "execution_count": 49,
   "metadata": {},
   "outputs": [
    {
     "data": {
      "text/plain": [
       "array([[45102.33254507]])"
      ]
     },
     "execution_count": 49,
     "metadata": {},
     "output_type": "execute_result"
    }
   ],
   "source": [
    "from sklearn.metrics.pairwise import euclidean_distances\n",
    "import numpy as np\n",
    "\n",
    "def get2DArray(row):\n",
    "    return np.array([row.values.tolist()])\n",
    "\n",
    "first_row = get2DArray(numerical_df.iloc[0])\n",
    "second_row = get2DArray(numerical_df.iloc[1])\n",
    "\n",
    "euclidean_distances(first_row, second_row)"
   ]
  },
  {
   "cell_type": "markdown",
   "metadata": {},
   "source": [
    "### Standardisation\n",
    "- Ensures that clusters are equally influenced by each feature/dimension"
   ]
  },
  {
   "cell_type": "code",
   "execution_count": 50,
   "metadata": {},
   "outputs": [
    {
     "data": {
      "text/html": [
       "<div>\n",
       "<style scoped>\n",
       "    .dataframe tbody tr th:only-of-type {\n",
       "        vertical-align: middle;\n",
       "    }\n",
       "\n",
       "    .dataframe tbody tr th {\n",
       "        vertical-align: top;\n",
       "    }\n",
       "\n",
       "    .dataframe thead th {\n",
       "        text-align: right;\n",
       "    }\n",
       "</style>\n",
       "<table border=\"1\" class=\"dataframe\">\n",
       "  <thead>\n",
       "    <tr style=\"text-align: right;\">\n",
       "      <th></th>\n",
       "      <th>TOTAL_ATTENDANCE_MILLIONS</th>\n",
       "      <th>ELO</th>\n",
       "      <th>VALUE_MILLIONS</th>\n",
       "      <th>MEDIAN_HOME_PRICE_COUNTY_MILLIONS</th>\n",
       "    </tr>\n",
       "  </thead>\n",
       "  <tbody>\n",
       "    <tr>\n",
       "      <th>0</th>\n",
       "      <td>0.888882</td>\n",
       "      <td>1519</td>\n",
       "      <td>2500</td>\n",
       "      <td>269900.0</td>\n",
       "    </tr>\n",
       "    <tr>\n",
       "      <th>1</th>\n",
       "      <td>0.811366</td>\n",
       "      <td>1420</td>\n",
       "      <td>1450</td>\n",
       "      <td>314990.0</td>\n",
       "    </tr>\n",
       "    <tr>\n",
       "      <th>2</th>\n",
       "      <td>0.721928</td>\n",
       "      <td>1393</td>\n",
       "      <td>1075</td>\n",
       "      <td>343950.0</td>\n",
       "    </tr>\n",
       "    <tr>\n",
       "      <th>3</th>\n",
       "      <td>0.805400</td>\n",
       "      <td>1569</td>\n",
       "      <td>1350</td>\n",
       "      <td>389000.0</td>\n",
       "    </tr>\n",
       "    <tr>\n",
       "      <th>4</th>\n",
       "      <td>0.813050</td>\n",
       "      <td>1600</td>\n",
       "      <td>1125</td>\n",
       "      <td>390000.0</td>\n",
       "    </tr>\n",
       "  </tbody>\n",
       "</table>\n",
       "</div>"
      ],
      "text/plain": [
       "   TOTAL_ATTENDANCE_MILLIONS   ELO  VALUE_MILLIONS  \\\n",
       "0                   0.888882  1519            2500   \n",
       "1                   0.811366  1420            1450   \n",
       "2                   0.721928  1393            1075   \n",
       "3                   0.805400  1569            1350   \n",
       "4                   0.813050  1600            1125   \n",
       "\n",
       "   MEDIAN_HOME_PRICE_COUNTY_MILLIONS  \n",
       "0                           269900.0  \n",
       "1                           314990.0  \n",
       "2                           343950.0  \n",
       "3                           389000.0  \n",
       "4                           390000.0  "
      ]
     },
     "execution_count": 50,
     "metadata": {},
     "output_type": "execute_result"
    }
   ],
   "source": [
    "team_data = \"https://raw.githubusercontent.com/noahgift/socialpowernba/master/data/nba_2017_att_val_elo_win_housing.csv\"\n",
    "val_housing_win_df = pd.read_csv(team_data)\n",
    "numerical_df = val_housing_win_df.loc[:,[\"TOTAL_ATTENDANCE_MILLIONS\", \"ELO\", \"VALUE_MILLIONS\", \"MEDIAN_HOME_PRICE_COUNTY_MILLIONS\"]]\n",
    "numerical_df.head()"
   ]
  },
  {
   "cell_type": "code",
   "execution_count": 51,
   "metadata": {},
   "outputs": [],
   "source": [
    "from sklearn.preprocessing import StandardScaler\n",
    "from sklearn.pipeline import make_pipeline, Pipeline\n",
    "from sklearn.cluster import KMeans"
   ]
  },
  {
   "cell_type": "code",
   "execution_count": 52,
   "metadata": {},
   "outputs": [
    {
     "name": "stdout",
     "output_type": "stream",
     "text": [
      "2.9 ms ± 138 µs per loop (mean ± std. dev. of 7 runs, 100 loops each)\n"
     ]
    }
   ],
   "source": [
    "%%timeit\n",
    "std_cluster = make_pipeline(StandardScaler(), KMeans(n_clusters=3))\n",
    "kmeans = std_cluster.fit(numerical_df)"
   ]
  },
  {
   "cell_type": "markdown",
   "metadata": {},
   "source": [
    "Difference between `Pipeline()` and `make_pipeline()` from sklearn:\n",
    "`make_pipeline` generates names for steps automatically."
   ]
  },
  {
   "cell_type": "markdown",
   "metadata": {},
   "source": [
    "## K-Means\n",
    "\n",
    "#### Diagnostics\n",
    "- Elbow plot\n",
    "- Silhouette analysis\n",
    "- Intercluster Distance Map"
   ]
  },
  {
   "cell_type": "markdown",
   "metadata": {},
   "source": [
    "#### 1. Elbow Plot  \n",
    "Helps to determine the optimal numner of clusters by plotting the number of clusters,k, against the distortion score. The inflection point, or \"elbow\" shows the best k-value that the model fits best.\n",
    "\n",
    "K-Means: Inertia\n",
    "Inertia measures how well a dataset was clustered by K-Means. It is calculated by measuring the distance between each data point and its centroid, squaring this distance, and summing these squares across one cluster.\n",
    "\n",
    "A good model is one with low inertia AND a low number of clusters (K). However, this is a tradeoff because as K increases, inertia decreases."
   ]
  },
  {
   "cell_type": "code",
   "execution_count": 53,
   "metadata": {},
   "outputs": [
    {
     "data": {
      "image/png": "[encoded data removed]",
      "text/plain": [
       "<Figure size 640x480 with 1 Axes>"
      ]
     },
     "metadata": {},
     "output_type": "display_data"
    }
   ],
   "source": [
    "import matplotlib.pyplot as plt\n",
    "\n",
    "scaler = StandardScaler()\n",
    "scaled_numerical_df = scaler.fit_transform(numerical_df)\n",
    "\n",
    "sse = []\n",
    "for k in range(1,10):\n",
    "    kmeans = KMeans(n_clusters=k, init='k-means++', n_init=10, random_state=42)\n",
    "    kmeans.fit(scaled_numerical_df)\n",
    "    sse.append(kmeans.inertia_)\n",
    "\n",
    "plt.plot(range(1,10), sse)\n",
    "plt.xticks(range(1,10))\n",
    "plt.xlabel(\"Number of Clusters\")\n",
    "plt.ylabel(\"SSE\")\n",
    "plt.title(\"Elbow Plot on Scaled Dataframe\")\n",
    "plt.show()"
   ]
  },
  {
   "cell_type": "markdown",
   "metadata": {},
   "source": [
    "From the elbow plot above, we see that there is an elbow or \"bend\" at k=3.\n",
    "Thus, we will use 3 clusters when fitting our k-means clustering model in the next step."
   ]
  },
  {
   "cell_type": "markdown",
   "metadata": {},
   "source": [
    "#### 2. K-Means Silhouette Analysis\n",
    "\n",
    "The silhouette plot displays a measure of how close each point in one cluster is to points in the neighboring clusters and thus provides a way to assess parameters like number of clusters visually. This measure has a range of [-1, 1]."
   ]
  },
  {
   "cell_type": "code",
   "execution_count": 59,
   "metadata": {},
   "outputs": [
    {
     "data": {
      "text/plain": [
       "Text(0.5, 1.0, 'k Clusters VS Silhouette score')"
      ]
     },
     "execution_count": 59,
     "metadata": {},
     "output_type": "execute_result"
    },
    {
     "data": {
      "image/png": "[encoded data removed]",
      "text/plain": [
       "<Figure size 640x480 with 1 Axes>"
      ]
     },
     "metadata": {},
     "output_type": "display_data"
    }
   ],
   "source": [
    "from sklearn.metrics import silhouette_samples, silhouette_score\n",
    "import seaborn as sns\n",
    "\n",
    "k_range = range(2,10)\n",
    "sil_score = []\n",
    "\n",
    "for k in k_range:\n",
    "    kmeans = KMeans(n_clusters=k, init='k-means++', n_init=10, random_state=42)\n",
    "    labels = kmeans.fit(scaled_numerical_df).labels_\n",
    "    score = silhouette_score(scaled_numerical_df, labels, metric=\"euclidean\", random_state=42)\n",
    "    sil_score.append(score)\n",
    "\n",
    "    #print(f'Silhouette score for {k} clusters is {score}')\n",
    "\n",
    "sil_centers = pd.DataFrame({'Clusters' : k_range, 'Sil Score' : sil_score})\n",
    "sil_centers\n",
    "\n",
    "sns.lineplot(x='Clusters', y='Sil Score', data=sil_centers, marker=\"+\").set_title(\"k Clusters VS Silhouette score\")\n"
   ]
  },
  {
   "cell_type": "markdown",
   "metadata": {},
   "source": [
    "From the lineplot, we see that the max Silhouette score occurs when k=2. "
   ]
  },
  {
   "cell_type": "markdown",
   "metadata": {},
   "source": [
    "#### 3. K-Means Intercluster Distance Maps\n",
    "\n",
    "Intercluster distance maps display an embedding of the cluster centers in 2 dimensions with the distance to other centers preserved."
   ]
  },
  {
   "cell_type": "code",
   "execution_count": null,
   "metadata": {},
   "outputs": [],
   "source": [
    "#Use yellowbrick.cluster -> InterclusterDistance\n",
    "#ignore for now"
   ]
  }
 ],
 "metadata": {
  "kernelspec": {
   "display_name": "Python 3",
   "language": "python",
   "name": "python3"
  },
  "language_info": {
   "codemirror_mode": {
    "name": "ipython",
    "version": 3
   },
   "file_extension": ".py",
   "mimetype": "text/x-python",
   "name": "python",
   "nbconvert_exporter": "python",
   "pygments_lexer": "ipython3",
   "version": "3.10.13"
  }
 },
 "nbformat": 4,
 "nbformat_minor": 2
}
