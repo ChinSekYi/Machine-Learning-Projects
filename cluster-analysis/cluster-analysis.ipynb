{
 "cells": [
  {
   "cell_type": "markdown",
   "metadata": {},
   "source": [
    "# K-Means Clustering\n",
    "\n",
    "Distance metrics used:\n",
    "- Euclidean\n",
    "- Hamming\n",
    "- Cosine\n",
    "- Mahalanobis (measure of the distance between a point P and distribution D)"
   ]
  },
  {
   "cell_type": "markdown",
   "metadata": {},
   "source": [
    "Dataset:\n",
    "This project explores the relationship between Social Media, Salary, Influence, Performance and Team Valuation in the NBA"
   ]
  },
  {
   "cell_type": "code",
   "execution_count": 5,
   "metadata": {},
   "outputs": [],
   "source": [
    "import pandas as pd\n",
    "team_data = \"https://raw.githubusercontent.com/noahgift/socialpowernba/master/data/nba_2017_att_val_elo_win_housing.csv\"\n",
    "val_housing_win_df = pd.read_csv(team_data)\n",
    "numerical_df = val_housing_win_df.loc[:,[\"TOTAL_ATTENDANCE_MILLIONS\", \"ELO\", \"VALUE_MILLIONS\", \"MEDIAN_HOME_PRICE_COUNTY_MILLIONS\"]]"
   ]
  },
  {
   "cell_type": "code",
   "execution_count": 7,
   "metadata": {},
   "outputs": [
    {
     "data": {
      "text/html": [
       "<div>\n",
       "<style scoped>\n",
       "    .dataframe tbody tr th:only-of-type {\n",
       "        vertical-align: middle;\n",
       "    }\n",
       "\n",
       "    .dataframe tbody tr th {\n",
       "        vertical-align: top;\n",
       "    }\n",
       "\n",
       "    .dataframe thead th {\n",
       "        text-align: right;\n",
       "    }\n",
       "</style>\n",
       "<table border=\"1\" class=\"dataframe\">\n",
       "  <thead>\n",
       "    <tr style=\"text-align: right;\">\n",
       "      <th></th>\n",
       "      <th>TEAM</th>\n",
       "      <th>GMS</th>\n",
       "      <th>PCT_ATTENDANCE</th>\n",
       "      <th>WINNING_SEASON</th>\n",
       "      <th>TOTAL_ATTENDANCE_MILLIONS</th>\n",
       "      <th>VALUE_MILLIONS</th>\n",
       "      <th>ELO</th>\n",
       "      <th>CONF</th>\n",
       "      <th>COUNTY</th>\n",
       "      <th>MEDIAN_HOME_PRICE_COUNTY_MILLIONS</th>\n",
       "      <th>COUNTY_POPULATION_MILLIONS</th>\n",
       "    </tr>\n",
       "  </thead>\n",
       "  <tbody>\n",
       "    <tr>\n",
       "      <th>0</th>\n",
       "      <td>Chicago Bulls</td>\n",
       "      <td>41</td>\n",
       "      <td>104</td>\n",
       "      <td>1</td>\n",
       "      <td>0.888882</td>\n",
       "      <td>2500</td>\n",
       "      <td>1519</td>\n",
       "      <td>East</td>\n",
       "      <td>Cook</td>\n",
       "      <td>269900.0</td>\n",
       "      <td>5.20</td>\n",
       "    </tr>\n",
       "    <tr>\n",
       "      <th>1</th>\n",
       "      <td>Dallas Mavericks</td>\n",
       "      <td>41</td>\n",
       "      <td>103</td>\n",
       "      <td>0</td>\n",
       "      <td>0.811366</td>\n",
       "      <td>1450</td>\n",
       "      <td>1420</td>\n",
       "      <td>West</td>\n",
       "      <td>Dallas</td>\n",
       "      <td>314990.0</td>\n",
       "      <td>2.57</td>\n",
       "    </tr>\n",
       "    <tr>\n",
       "      <th>2</th>\n",
       "      <td>Sacramento Kings</td>\n",
       "      <td>41</td>\n",
       "      <td>101</td>\n",
       "      <td>0</td>\n",
       "      <td>0.721928</td>\n",
       "      <td>1075</td>\n",
       "      <td>1393</td>\n",
       "      <td>West</td>\n",
       "      <td>Sacremento</td>\n",
       "      <td>343950.0</td>\n",
       "      <td>1.51</td>\n",
       "    </tr>\n",
       "    <tr>\n",
       "      <th>3</th>\n",
       "      <td>Miami Heat</td>\n",
       "      <td>41</td>\n",
       "      <td>100</td>\n",
       "      <td>1</td>\n",
       "      <td>0.805400</td>\n",
       "      <td>1350</td>\n",
       "      <td>1569</td>\n",
       "      <td>East</td>\n",
       "      <td>Miami-Dade</td>\n",
       "      <td>389000.0</td>\n",
       "      <td>2.71</td>\n",
       "    </tr>\n",
       "    <tr>\n",
       "      <th>4</th>\n",
       "      <td>Toronto Raptors</td>\n",
       "      <td>41</td>\n",
       "      <td>100</td>\n",
       "      <td>1</td>\n",
       "      <td>0.813050</td>\n",
       "      <td>1125</td>\n",
       "      <td>1600</td>\n",
       "      <td>East</td>\n",
       "      <td>York-County</td>\n",
       "      <td>390000.0</td>\n",
       "      <td>1.10</td>\n",
       "    </tr>\n",
       "  </tbody>\n",
       "</table>\n",
       "</div>"
      ],
      "text/plain": [
       "               TEAM  GMS  PCT_ATTENDANCE  WINNING_SEASON  \\\n",
       "0     Chicago Bulls   41             104               1   \n",
       "1  Dallas Mavericks   41             103               0   \n",
       "2  Sacramento Kings   41             101               0   \n",
       "3        Miami Heat   41             100               1   \n",
       "4   Toronto Raptors   41             100               1   \n",
       "\n",
       "   TOTAL_ATTENDANCE_MILLIONS  VALUE_MILLIONS   ELO  CONF       COUNTY  \\\n",
       "0                   0.888882            2500  1519  East         Cook   \n",
       "1                   0.811366            1450  1420  West       Dallas   \n",
       "2                   0.721928            1075  1393  West   Sacremento   \n",
       "3                   0.805400            1350  1569  East   Miami-Dade   \n",
       "4                   0.813050            1125  1600  East  York-County   \n",
       "\n",
       "   MEDIAN_HOME_PRICE_COUNTY_MILLIONS  COUNTY_POPULATION_MILLIONS  \n",
       "0                           269900.0                        5.20  \n",
       "1                           314990.0                        2.57  \n",
       "2                           343950.0                        1.51  \n",
       "3                           389000.0                        2.71  \n",
       "4                           390000.0                        1.10  "
      ]
     },
     "execution_count": 7,
     "metadata": {},
     "output_type": "execute_result"
    }
   ],
   "source": [
    "val_housing_win_df.head()\n"
   ]
  },
  {
   "cell_type": "markdown",
   "metadata": {},
   "source": []
  }
 ],
 "metadata": {
  "kernelspec": {
   "display_name": "Python 3",
   "language": "python",
   "name": "python3"
  },
  "language_info": {
   "codemirror_mode": {
    "name": "ipython",
    "version": 3
   },
   "file_extension": ".py",
   "mimetype": "text/x-python",
   "name": "python",
   "nbconvert_exporter": "python",
   "pygments_lexer": "ipython3",
   "version": "3.10.13"
  }
 },
 "nbformat": 4,
 "nbformat_minor": 2
}
