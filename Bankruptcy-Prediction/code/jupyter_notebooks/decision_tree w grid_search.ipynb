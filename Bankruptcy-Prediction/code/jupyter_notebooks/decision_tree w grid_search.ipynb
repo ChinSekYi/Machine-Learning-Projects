{
 "cells": [
  {
   "cell_type": "code",
   "execution_count": 2,
   "metadata": {},
   "outputs": [],
   "source": [
    "import pandas as pd\n",
    "from python_scripts import csv_processing as dp\n",
    "from python_scripts import evaluation\n",
    "\n",
    "from sklearn.tree import DecisionTreeClassifier\n",
    "from sklearn.model_selection import GridSearchCV\n",
    "from sklearn.metrics import f1_score, make_scorer"
   ]
  },
  {
   "cell_type": "code",
   "execution_count": 3,
   "metadata": {},
   "outputs": [],
   "source": [
    "df = pd.read_csv(\"../data/3year.csv\")"
   ]
  },
  {
   "cell_type": "code",
   "execution_count": 4,
   "metadata": {},
   "outputs": [],
   "source": [
    "dt = DecisionTreeClassifier(criterion=\"entropy\", splitter=\"best\", random_state=0)"
   ]
  },
  {
   "cell_type": "markdown",
   "metadata": {},
   "source": [
    "### Without SMOTE"
   ]
  },
  {
   "cell_type": "code",
   "execution_count": 5,
   "metadata": {},
   "outputs": [],
   "source": [
    "X_train, X_test, y_train, y_test = dp.get_train_test(df)"
   ]
  },
  {
   "cell_type": "code",
   "execution_count": 6,
   "metadata": {},
   "outputs": [
    {
     "name": "stdout",
     "output_type": "stream",
     "text": [
      "Confusion Matrix:\n",
      " [[2867  132]\n",
      " [ 122   30]]\n",
      "Accuracy: 0.919\n",
      "Precision Score: 0.185\n",
      "Recall Score: 0.197\n",
      "F1 Score: 0.191\n",
      "Classification Report:\n",
      "               precision    recall  f1-score   support\n",
      "\n",
      "           0       0.96      0.96      0.96      2999\n",
      "           1       0.19      0.20      0.19       152\n",
      "\n",
      "    accuracy                           0.92      3151\n",
      "   macro avg       0.57      0.58      0.57      3151\n",
      "weighted avg       0.92      0.92      0.92      3151\n",
      "\n"
     ]
    }
   ],
   "source": [
    "dt.fit(X_train, y_train)\n",
    "y_pred = dt.predict(X_test)\n",
    "evaluation.print_res(y_test, y_pred)"
   ]
  },
  {
   "cell_type": "markdown",
   "metadata": {},
   "source": [
    "##### Grid Search"
   ]
  },
  {
   "cell_type": "code",
   "execution_count": 7,
   "metadata": {},
   "outputs": [
    {
     "name": "stdout",
     "output_type": "stream",
     "text": [
      "Best parameters: {'max_depth': 100, 'max_leaf_nodes': None, 'min_samples_leaf': 5, 'min_samples_split': 2}\n",
      "Confusion Matrix:\n",
      " [[2912   87]\n",
      " [ 125   27]]\n",
      "Accuracy: 0.933\n",
      "Precision Score: 0.237\n",
      "Recall Score: 0.178\n",
      "F1 Score: 0.203\n",
      "Classification Report:\n",
      "               precision    recall  f1-score   support\n",
      "\n",
      "           0       0.96      0.97      0.96      2999\n",
      "           1       0.24      0.18      0.20       152\n",
      "\n",
      "    accuracy                           0.93      3151\n",
      "   macro avg       0.60      0.57      0.58      3151\n",
      "weighted avg       0.92      0.93      0.93      3151\n",
      "\n"
     ]
    }
   ],
   "source": [
    "# Define the parameter grid to search\n",
    "param_grid = {\n",
    "    \"max_depth\": [1, 10, 100, 1000],\n",
    "    \"min_samples_split\": [2, 5, 10],\n",
    "    \"min_samples_leaf\": [1, 5, 10],\n",
    "    \"max_leaf_nodes\": [None, 10, 100, 1000, 10000],\n",
    "}\n",
    "\n",
    "# Instantiate the GridSearchCV object\n",
    "grid_search = GridSearchCV(dt, param_grid, cv=5, scoring=make_scorer(f1_score))\n",
    "\n",
    "# Fit the grid search to the data\n",
    "grid_search.fit(X_train, y_train)\n",
    "\n",
    "# Print the best parameters found\n",
    "print(\"Best parameters:\", grid_search.best_params_)\n",
    "\n",
    "# Get the best model\n",
    "best_dt_model = grid_search.best_estimator_\n",
    "\n",
    "# Predictions on the test set\n",
    "y_pred = best_dt_model.predict(X_test)\n",
    "\n",
    "evaluation.print_res(y_test, y_pred)"
   ]
  },
  {
   "cell_type": "markdown",
   "metadata": {},
   "source": [
    "### SMOTE"
   ]
  },
  {
   "cell_type": "code",
   "execution_count": 8,
   "metadata": {},
   "outputs": [],
   "source": [
    "X_train, X_test, y_train, y_test = dp.pre_process(df)"
   ]
  },
  {
   "cell_type": "code",
   "execution_count": 9,
   "metadata": {},
   "outputs": [
    {
     "name": "stdout",
     "output_type": "stream",
     "text": [
      "Confusion Matrix:\n",
      " [[2675  324]\n",
      " [ 100   52]]\n",
      "Accuracy: 0.865\n",
      "Precision Score: 0.138\n",
      "Recall Score: 0.342\n",
      "F1 Score: 0.197\n",
      "Classification Report:\n",
      "               precision    recall  f1-score   support\n",
      "\n",
      "           0       0.96      0.89      0.93      2999\n",
      "           1       0.14      0.34      0.20       152\n",
      "\n",
      "    accuracy                           0.87      3151\n",
      "   macro avg       0.55      0.62      0.56      3151\n",
      "weighted avg       0.92      0.87      0.89      3151\n",
      "\n"
     ]
    }
   ],
   "source": [
    "dt.fit(X_train, y_train)\n",
    "y_pred = dt.predict(X_test)\n",
    "evaluation.print_res(y_test, y_pred)"
   ]
  },
  {
   "cell_type": "markdown",
   "metadata": {},
   "source": [
    "##### Grid Search Round 1"
   ]
  },
  {
   "cell_type": "code",
   "execution_count": 10,
   "metadata": {},
   "outputs": [
    {
     "name": "stdout",
     "output_type": "stream",
     "text": [
      "Best parameters: {'max_depth': 100, 'max_leaf_nodes': 1000, 'min_samples_leaf': 1, 'min_samples_split': 2}\n",
      "Confusion Matrix:\n",
      " [[2659  340]\n",
      " [  98   54]]\n",
      "Accuracy: 0.861\n",
      "Precision Score: 0.137\n",
      "Recall Score: 0.355\n",
      "F1 Score: 0.198\n",
      "Classification Report:\n",
      "               precision    recall  f1-score   support\n",
      "\n",
      "           0       0.96      0.89      0.92      2999\n",
      "           1       0.14      0.36      0.20       152\n",
      "\n",
      "    accuracy                           0.86      3151\n",
      "   macro avg       0.55      0.62      0.56      3151\n",
      "weighted avg       0.92      0.86      0.89      3151\n",
      "\n"
     ]
    }
   ],
   "source": [
    "param_grid = {\n",
    "    \"max_depth\": [1, 10, 100, 1000],\n",
    "    \"min_samples_split\": [2, 5, 10],\n",
    "    \"min_samples_leaf\": [1, 5, 10],\n",
    "    \"max_leaf_nodes\": [None, 10, 100, 1000, 10000],\n",
    "}\n",
    "\n",
    "grid_search = GridSearchCV(dt, param_grid, cv=5, scoring=make_scorer(f1_score))\n",
    "grid_search.fit(X_train, y_train)\n",
    "print(\"Best parameters:\", grid_search.best_params_)\n",
    "best_dt_model = grid_search.best_estimator_\n",
    "y_pred = best_dt_model.predict(X_test)\n",
    "evaluation.print_res(y_test, y_pred)"
   ]
  },
  {
   "cell_type": "markdown",
   "metadata": {},
   "source": [
    "##### Grid Search Round 2"
   ]
  },
  {
   "cell_type": "code",
   "execution_count": 27,
   "metadata": {},
   "outputs": [
    {
     "name": "stdout",
     "output_type": "stream",
     "text": [
      "Best parameters: {'max_depth': 40, 'max_leaf_nodes': None, 'min_samples_leaf': 1, 'min_samples_split': 2}\n",
      "Confusion Matrix:\n",
      " [[2613  404]\n",
      " [  89   45]]\n",
      "Accuracy: 0.844\n",
      "Precision Score: 0.1\n",
      "Recall Score: 0.336\n",
      "F1 Score: 0.154\n",
      "Classification Report:\n",
      "               precision    recall  f1-score   support\n",
      "\n",
      "           0       0.97      0.87      0.91      3017\n",
      "           1       0.10      0.34      0.15       134\n",
      "\n",
      "    accuracy                           0.84      3151\n",
      "   macro avg       0.53      0.60      0.53      3151\n",
      "weighted avg       0.93      0.84      0.88      3151\n",
      "\n"
     ]
    }
   ],
   "source": [
    "param_grid = {\n",
    "    \"max_depth\": [20, 40, 60, 80, 100],\n",
    "    \"min_samples_split\": [2],\n",
    "    \"min_samples_leaf\": [1],\n",
    "    \"max_leaf_nodes\": [None],\n",
    "}\n",
    "\n",
    "grid_search = GridSearchCV(dt, param_grid, cv=5, scoring=make_scorer(f1_score))\n",
    "grid_search.fit(X_train, y_train)\n",
    "print(\"Best parameters:\", grid_search.best_params_)\n",
    "best_dt_model = grid_search.best_estimator_\n",
    "y_pred = best_dt_model.predict(X_test)\n",
    "evaluation.print_res(y_test, y_pred)"
   ]
  }
 ],
 "metadata": {
  "kernelspec": {
   "display_name": "Python 3",
   "language": "python",
   "name": "python3"
  },
  "language_info": {
   "codemirror_mode": {
    "name": "ipython",
    "version": 3
   },
   "file_extension": ".py",
   "mimetype": "text/x-python",
   "name": "python",
   "nbconvert_exporter": "python",
   "pygments_lexer": "ipython3",
   "version": "3.11.5"
  }
 },
 "nbformat": 4,
 "nbformat_minor": 2
}
