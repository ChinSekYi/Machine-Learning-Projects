{
 "cells": [
  {
   "cell_type": "code",
   "execution_count": 14,
   "metadata": {},
   "outputs": [],
   "source": [
    "import requests\n",
    "import zipfile\n",
    "import os\n",
    "from scipy.io import arff\n",
    "import pandas as pd"
   ]
  },
  {
   "cell_type": "code",
   "execution_count": 2,
   "metadata": {},
   "outputs": [],
   "source": [
    "# We inspect the source web page to get the url for direct downloading.\n",
    "download_url = (\n",
    "    \"https://archive.ics.uci.edu/static/public/365/polish+companies+bankruptcy+data.zip\"\n",
    ")\n",
    "response = requests.get(download_url)\n",
    "zip_file_path = \"downloaded_file.zip\"\n",
    "\n",
    "if response.status_code == 200:\n",
    "    with open(zip_file_path, \"wb\") as file:\n",
    "        file.write(response.content)\n",
    "else:\n",
    "    print(\"Failed to download the file\")"
   ]
  },
  {
   "cell_type": "code",
   "execution_count": 15,
   "metadata": {},
   "outputs": [],
   "source": [
    "def extract_arff_from_zip(zip_path, arff_filename, extraction_path=\".\"):\n",
    "    \"\"\"\n",
    "    Extracts an ARFF file from a ZIP archive.\n",
    "\n",
    "    Parameters:\n",
    "        zip_path (str): Path to the ZIP file.\n",
    "        arff_filename (str): The name of the ARFF file within the ZIP.\n",
    "        extraction_path (str): Folder path where to extract files.\n",
    "    Returns:\n",
    "        str: Path to the extracted ARFF file.\n",
    "    \"\"\"\n",
    "    with zipfile.ZipFile(zip_path, \"r\") as zip_ref:\n",
    "        # Extract only the ARFF file\n",
    "        zip_ref.extract(arff_filename, path=extraction_path)\n",
    "        return os.path.join(extraction_path, arff_filename)\n",
    "\n",
    "\n",
    "def convert_arff_to_csv(arff_path, csv_path):\n",
    "    \"\"\"\n",
    "    Converts an ARFF file to a CSV file.\n",
    "\n",
    "    Parameters:\n",
    "        arff_path (str): Path to the ARFF file.\n",
    "        csv_path (str): Path where the CSV file will be saved.\n",
    "    \"\"\"\n",
    "    # Load ARFF file\n",
    "    data, meta = arff.loadarff(arff_path)\n",
    "    df = pd.DataFrame(data)\n",
    "\n",
    "    # Convert bytes columns to string (if needed)\n",
    "    for col in df.select_dtypes([object]):\n",
    "        if isinstance(df[col][0], bytes):\n",
    "            df[col] = df[col].apply(lambda x: x.decode(\"utf-8\"))\n",
    "\n",
    "    # Save to CSV\n",
    "    df.to_csv(csv_path, index=False)\n",
    "    print(f\"CSV file has been saved to {csv_path}\")"
   ]
  },
  {
   "cell_type": "code",
   "execution_count": 17,
   "metadata": {},
   "outputs": [
    {
     "name": "stdout",
     "output_type": "stream",
     "text": [
      "CSV file has been saved to 1year.csv\n",
      "CSV file has been saved to 2year.csv\n",
      "CSV file has been saved to 3year.csv\n",
      "CSV file has been saved to 4year.csv\n",
      "CSV file has been saved to 5year.csv\n"
     ]
    }
   ],
   "source": [
    "for i in range(1, 6):\n",
    "    # Paths configuration\n",
    "    arff_filename = f\"{i}year.arff\"\n",
    "    csv_path = f\"{i}year.csv\"\n",
    "\n",
    "    # Processing\n",
    "    extracted_arff_path = extract_arff_from_zip(zip_file_path, arff_filename)\n",
    "    convert_arff_to_csv(extracted_arff_path, csv_path)"
   ]
  }
 ],
 "metadata": {
  "kernelspec": {
   "display_name": "Python 3",
   "language": "python",
   "name": "python3"
  },
  "language_info": {
   "codemirror_mode": {
    "name": "ipython",
    "version": 3
   },
   "file_extension": ".py",
   "mimetype": "text/x-python",
   "name": "python",
   "nbconvert_exporter": "python",
   "pygments_lexer": "ipython3",
   "version": "3.9.6"
  }
 },
 "nbformat": 4,
 "nbformat_minor": 2
}
